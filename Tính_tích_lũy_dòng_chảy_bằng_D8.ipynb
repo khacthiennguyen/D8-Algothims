{
  "nbformat": 4,
  "nbformat_minor": 0,
  "metadata": {
    "colab": {
      "provenance": [],
      "authorship_tag": "ABX9TyPhOuKCaNyvt0DT/6ipZ5ai",
      "include_colab_link": true
    },
    "kernelspec": {
      "name": "python3",
      "display_name": "Python 3"
    },
    "language_info": {
      "name": "python"
    }
  },
  "cells": [
    {
      "cell_type": "markdown",
      "metadata": {
        "id": "view-in-github",
        "colab_type": "text"
      },
      "source": [
        "<a href=\"https://colab.research.google.com/github/khacthiennguyen/D8-Algothims/blob/main/T%C3%ADnh_t%C3%ADch_l%C5%A9y_d%C3%B2ng_ch%E1%BA%A3y_b%E1%BA%B1ng_D8.ipynb\" target=\"_parent\"><img src=\"https://colab.research.google.com/assets/colab-badge.svg\" alt=\"Open In Colab\"/></a>"
      ]
    },
    {
      "cell_type": "code",
      "execution_count": 34,
      "metadata": {
        "id": "4KmaazkcPZxo"
      },
      "outputs": [],
      "source": [
        "import numpy as np"
      ]
    },
    {
      "cell_type": "code",
      "source": [
        "docao= [[78, 72, 69, 71, 58, 49],\n",
        "[74, 67, 58, 49, 46, 50],\n",
        "[69, 53, 44, 37, 38, 48],\n",
        "[64, 58, 55, 22, 31, 24],\n",
        "[68, 81, 47, 21, 16, 19],\n",
        "[74, 53, 34, 12, 11, 12]]\n",
        "\n",
        "docao"
      ],
      "metadata": {
        "id": "qHVKJKiaQi0V",
        "colab": {
          "base_uri": "https://localhost:8080/",
          "height": 0
        },
        "outputId": "0bd8ca57-1279-44fa-9c95-96a80708a6c3"
      },
      "execution_count": 33,
      "outputs": [
        {
          "output_type": "execute_result",
          "data": {
            "text/plain": [
              "[[78, 72, 69, 71, 58, 49],\n",
              " [74, 67, 58, 49, 46, 50],\n",
              " [69, 53, 44, 37, 38, 48],\n",
              " [64, 58, 55, 22, 31, 24],\n",
              " [68, 81, 47, 21, 16, 19],\n",
              " [74, 53, 34, 12, 11, 12]]"
            ]
          },
          "metadata": {},
          "execution_count": 33
        }
      ]
    },
    {
      "cell_type": "markdown",
      "source": [
        "# **Hướng dòng chảy**"
      ],
      "metadata": {
        "id": "dYuvC84VeifF"
      }
    },
    {
      "cell_type": "code",
      "source": [
        "mdong = len(docao)\n",
        "ncot = len(docao[0])\n",
        "print (mdong,ncot)"
      ],
      "metadata": {
        "colab": {
          "base_uri": "https://localhost:8080/",
          "height": 0
        },
        "id": "e7d7ANv_Q_JF",
        "outputId": "2438b541-541a-45b0-d231-8bb6b34ba05c"
      },
      "execution_count": 35,
      "outputs": [
        {
          "output_type": "stream",
          "name": "stdout",
          "text": [
            "6 6\n"
          ]
        }
      ]
    },
    {
      "cell_type": "code",
      "source": [
        "DIR = np.zeros((mdong,ncot))\n",
        "DIR"
      ],
      "metadata": {
        "colab": {
          "base_uri": "https://localhost:8080/",
          "height": 0
        },
        "id": "V9l1hdu_QsI7",
        "outputId": "6493dc6d-c704-443f-b5e6-8bc50a058b76"
      },
      "execution_count": 36,
      "outputs": [
        {
          "output_type": "execute_result",
          "data": {
            "text/plain": [
              "array([[0., 0., 0., 0., 0., 0.],\n",
              "       [0., 0., 0., 0., 0., 0.],\n",
              "       [0., 0., 0., 0., 0., 0.],\n",
              "       [0., 0., 0., 0., 0., 0.],\n",
              "       [0., 0., 0., 0., 0., 0.],\n",
              "       [0., 0., 0., 0., 0., 0.]])"
            ]
          },
          "metadata": {},
          "execution_count": 36
        }
      ]
    },
    {
      "cell_type": "code",
      "source": [
        "def Lancan(dong, cot, mdong, ncot):\n",
        "  neighbor = []\n",
        "  for i in range(-1, 2): # dong: -1, 0, +1\n",
        "    for j in range(-1, 2):\n",
        "      x = dong + i\n",
        "      y = cot + j\n",
        "      if (not((i == 0) and (j == 0))\n",
        "      and ((x>=0) and (x<mdong) and (y>=0) and (y<ncot))):\n",
        "                                neighbor.append((x,y))\n",
        "  return neighbor"
      ],
      "metadata": {
        "id": "pYs5jkgrRKQI"
      },
      "execution_count": 37,
      "outputs": []
    },
    {
      "cell_type": "code",
      "source": [
        "Lancan(5,3,6,6)"
      ],
      "metadata": {
        "colab": {
          "base_uri": "https://localhost:8080/",
          "height": 0
        },
        "id": "iTkX5zxQSKna",
        "outputId": "82d0df4c-6f5e-46d4-f2c9-376b240a4c76"
      },
      "execution_count": 39,
      "outputs": [
        {
          "output_type": "execute_result",
          "data": {
            "text/plain": [
              "[(4, 2), (4, 3), (4, 4), (5, 2), (5, 4)]"
            ]
          },
          "metadata": {},
          "execution_count": 39
        }
      ]
    },
    {
      "cell_type": "code",
      "source": [
        "def getCode (dX,dY):\n",
        "\n",
        "  if (dX == 0 and dY == 1) : return 1\n",
        "  if (dX == 0 and dY == -1) : return 16\n",
        "  if (dX == -1 and dY == 0) : return 64\n",
        "  if (dX == 1 and dY == 0) : return 4\n",
        "  if (dX == 1 and dY == 1) : return 2\n",
        "  if (dX == 1 and dY == -1) : return 8\n",
        "  if (dX == -1 and dY == 1) : return 128\n",
        "  if (dX == -1 and dY == -1) : return 32\n"
      ],
      "metadata": {
        "id": "CAFXqw8qPfV_"
      },
      "execution_count": 40,
      "outputs": []
    },
    {
      "cell_type": "code",
      "source": [
        "def getDirection(dong,cot):\n",
        "  danhsach_lc = Lancan(dong,cot,mdong,ncot)\n",
        "  chenhlechmax = 0\n",
        "  vitrix = 0\n",
        "  vitriy=0\n",
        "  for lc in danhsach_lc:\n",
        "    import math\n",
        "    dX = lc[0] - dong\n",
        "    dY = lc[1] - cot\n",
        "    kc = math.sqrt(dX ** 2 + dY ** 2)\n",
        "    gtri = ( docao[dong][cot] - docao[lc[0]][lc[1]] )/kc\n",
        "    if gtri > chenhlechmax:\n",
        "      chenhlechmax = gtri\n",
        "      vitrix = dX\n",
        "      vitriy = dY\n",
        "  return vitrix, vitriy"
      ],
      "metadata": {
        "id": "qjhEATCvQEyG"
      },
      "execution_count": 42,
      "outputs": []
    },
    {
      "cell_type": "code",
      "source": [
        "def calDirection():\n",
        "  for i in range (mdong):\n",
        "    for j in range (ncot):\n",
        "      d = getDirection(i,j)\n",
        "      DIR [i][j] = getCode(d[0],d[1])"
      ],
      "metadata": {
        "id": "qRsQT_HrT5JB"
      },
      "execution_count": 43,
      "outputs": []
    },
    {
      "cell_type": "markdown",
      "source": [],
      "metadata": {
        "id": "frN4w15fb4ZW"
      }
    },
    {
      "cell_type": "code",
      "source": [
        "DIR"
      ],
      "metadata": {
        "id": "-XqNNcSRQKdf",
        "colab": {
          "base_uri": "https://localhost:8080/",
          "height": 0
        },
        "outputId": "744ea884-db80-4b8b-9d79-d2a83d82cb64"
      },
      "execution_count": 44,
      "outputs": [
        {
          "output_type": "execute_result",
          "data": {
            "text/plain": [
              "array([[0., 0., 0., 0., 0., 0.],\n",
              "       [0., 0., 0., 0., 0., 0.],\n",
              "       [0., 0., 0., 0., 0., 0.],\n",
              "       [0., 0., 0., 0., 0., 0.],\n",
              "       [0., 0., 0., 0., 0., 0.],\n",
              "       [0., 0., 0., 0., 0., 0.]])"
            ]
          },
          "metadata": {},
          "execution_count": 44
        }
      ]
    },
    {
      "cell_type": "code",
      "source": [
        "calDirection()"
      ],
      "metadata": {
        "id": "ksm9eevBYf5k"
      },
      "execution_count": 45,
      "outputs": []
    },
    {
      "cell_type": "code",
      "source": [
        "DIR"
      ],
      "metadata": {
        "colab": {
          "base_uri": "https://localhost:8080/",
          "height": 0
        },
        "id": "w8HVy-PIYksp",
        "outputId": "e01f0c43-2124-417b-f78b-38667f53c1e4"
      },
      "execution_count": 46,
      "outputs": [
        {
          "output_type": "execute_result",
          "data": {
            "text/plain": [
              "array([[  2.,   2.,   2.,   4.,   4.,   8.],\n",
              "       [  2.,   2.,   2.,   4.,   4.,   8.],\n",
              "       [  1.,   1.,   2.,   4.,   8.,   4.],\n",
              "       [128., 128.,   1.,   2.,   4.,   8.],\n",
              "       [  2.,   1.,   1.,   4.,   4.,   4.],\n",
              "       [  1.,   1.,   1.,   1.,  nan,  16.]])"
            ]
          },
          "metadata": {},
          "execution_count": 46
        }
      ]
    },
    {
      "cell_type": "code",
      "source": [],
      "metadata": {
        "colab": {
          "base_uri": "https://localhost:8080/",
          "height": 0
        },
        "id": "53IoBkG5aCZy",
        "outputId": "068493b6-d42c-4dd0-fb06-7f2643ae0413"
      },
      "execution_count": 53,
      "outputs": [
        {
          "output_type": "execute_result",
          "data": {
            "text/plain": [
              "array([[ 12.,  14.,  16.,  18.,  22.,  26.],\n",
              "       [ 11.,  10.,  12.,  14.,  18.,  22.],\n",
              "       [ 10.,   9.,   8.,  10.,  14.,  16.],\n",
              "       [137., 136.,   7.,   6.,   8.,  12.],\n",
              "       [  5.,   7.,   6.,   5.,   4.,  20.],\n",
              "       [  4.,   3.,   2.,   1.,   0.,  16.]])"
            ]
          },
          "metadata": {},
          "execution_count": 53
        }
      ]
    },
    {
      "cell_type": "markdown",
      "source": [
        "# **Tích Lũy Dòng Chảy**"
      ],
      "metadata": {
        "id": "zqWb4_p3eZfH"
      }
    },
    {
      "cell_type": "code",
      "source": [
        "LANCAN = np.array([[32,64,128],\n",
        "                   [16,0,1],\n",
        "                   [8,4,2]])\n",
        "LANCAN"
      ],
      "metadata": {
        "colab": {
          "base_uri": "https://localhost:8080/",
          "height": 0
        },
        "id": "rOp3RVvuegSl",
        "outputId": "1f1e5ba7-e38a-465a-d82e-0ee1d53f0376"
      },
      "execution_count": 72,
      "outputs": [
        {
          "output_type": "execute_result",
          "data": {
            "text/plain": [
              "array([[ 32,  64, 128],\n",
              "       [ 16,   0,   1],\n",
              "       [  8,   4,   2]])"
            ]
          },
          "metadata": {},
          "execution_count": 72
        }
      ]
    },
    {
      "cell_type": "code",
      "source": [
        "def tinh_tichluy(dong,cot):\n",
        "  if table_test[dong][cot] == 0:\n",
        "    global all\n",
        "  table_test[dong][cot] =1\n",
        "  hangxom = Lancan(dong,cot,mdong,ncot)\n",
        "  for hx  in hangxom:\n",
        "    if DIR[hx[0]][hx[1]] == LANCAN[1-hx[0]+dong] [1-hx[1]+cot]:\n",
        "      all = all+1\n",
        "      #print (\"hang xom: [\",hx[0],hx[1],\"]\")\n",
        "      tinh_tichluy(hx[0],hx[1])"
      ],
      "metadata": {
        "id": "g0jddBR0e2uD"
      },
      "execution_count": 86,
      "outputs": []
    },
    {
      "cell_type": "code",
      "source": [
        "all = 0"
      ],
      "metadata": {
        "id": "OtDXm-HOgfY0"
      },
      "execution_count": 87,
      "outputs": []
    },
    {
      "cell_type": "code",
      "source": [
        "table_test = np.zeros((mdong,ncot))"
      ],
      "metadata": {
        "id": "0JkMPIJkgsXM"
      },
      "execution_count": 88,
      "outputs": []
    },
    {
      "cell_type": "code",
      "source": [
        "all"
      ],
      "metadata": {
        "colab": {
          "base_uri": "https://localhost:8080/",
          "height": 0
        },
        "id": "xCcPS405ghCp",
        "outputId": "6a120ea3-6aa4-4644-d7cb-2dc517db4dc2"
      },
      "execution_count": 89,
      "outputs": [
        {
          "output_type": "execute_result",
          "data": {
            "text/plain": [
              "0"
            ]
          },
          "metadata": {},
          "execution_count": 89
        }
      ]
    },
    {
      "cell_type": "code",
      "source": [
        "TICHLUY = np.zeros((mdong,ncot))"
      ],
      "metadata": {
        "id": "j1vFAJmqgmAW"
      },
      "execution_count": 90,
      "outputs": []
    },
    {
      "cell_type": "code",
      "source": [
        "for i in range (mdong):\n",
        "  for j in range (ncot):\n",
        "    table_test= np.zeros((mdong,ncot))\n",
        "    all = 0\n",
        "    tinh_tichluy(i,j)\n",
        "    TICHLUY[i][j] = all"
      ],
      "metadata": {
        "id": "c335R5dThD2K"
      },
      "execution_count": 91,
      "outputs": []
    },
    {
      "cell_type": "code",
      "source": [
        "TICHLUY"
      ],
      "metadata": {
        "colab": {
          "base_uri": "https://localhost:8080/",
          "height": 0
        },
        "id": "pULgP12whjL_",
        "outputId": "0942b43e-fb53-4bd9-b03b-7ca241d3d1fb"
      },
      "execution_count": 92,
      "outputs": [
        {
          "output_type": "execute_result",
          "data": {
            "text/plain": [
              "array([[ 0.,  0.,  0.,  0.,  0.,  0.],\n",
              "       [ 0.,  1.,  1.,  2.,  2.,  0.],\n",
              "       [ 0.,  3.,  7.,  5.,  4.,  0.],\n",
              "       [ 0.,  0.,  0., 20.,  0.,  1.],\n",
              "       [ 0.,  0.,  1.,  2., 24.,  0.],\n",
              "       [ 0.,  2.,  3.,  7., 35.,  1.]])"
            ]
          },
          "metadata": {},
          "execution_count": 92
        }
      ]
    }
  ]
}